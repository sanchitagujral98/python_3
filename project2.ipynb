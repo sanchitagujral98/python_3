{
 "cells": [
  {
   "cell_type": "code",
   "execution_count": null,
   "metadata": {},
   "outputs": [],
   "source": [
    "pwd"
   ]
  },
  {
   "cell_type": "code",
   "execution_count": 2,
   "metadata": {},
   "outputs": [
    {
     "name": "stdout",
     "output_type": "stream",
     "text": [
      "C:\\Users\\preetig\\documents\n"
     ]
    }
   ],
   "source": [
    "cd documents"
   ]
  },
  {
   "cell_type": "code",
   "execution_count": 3,
   "metadata": {},
   "outputs": [
    {
     "name": "stdout",
     "output_type": "stream",
     "text": [
      "C:\\Users\\preetig\\documents\\python_project\n"
     ]
    }
   ],
   "source": [
    "cd python_project"
   ]
  },
  {
   "cell_type": "code",
   "execution_count": null,
   "metadata": {},
   "outputs": [
    {
     "name": "stdout",
     "output_type": "stream",
     "text": [
      "Welcome to the Text Analyzer Menu! Select an option by typing a number\n",
      "1. display entire file\n",
      "2. count the occurence of words\n",
      "3. number of words,lines,paragraphs \n",
      "4. extract using index and sample text\n",
      "5. write onto a given file\n",
      "6. quit\n",
      "1\n",
      "A group of friends, highly established in their careers, got together to visit their old university professor. Conversation soon turned into complaints about stress in work and life. Offering his guests coffee, the professor went to the kitchen and returned with a large pot of coffee and assortment of cups – porcelain, plastic, glass, crystal, some plain looking, some expensive, some exquisite – telling them to help themselves to the coffee.\n",
      "\n",
      "When all the students had a cup of coffee in hand, the professor said: “If you noticed, all the nice looking expensive cups were taken up, leaving behind the plain and cheap ones. While it is normal for you to want only the best for yourselves, that is the source of problems and stress. Be assured that the cup itself adds no quality to the coffee. In most cases it is just more expensive and in some cases even hides what we drink. What all of you really wanted was coffee, not the cup, but you consciously went for the best cups.And then began envying each other’s cups.\n",
      "\n",
      "Now consider this: “Life is the COFFEE; the jobs, money and position in the society are the CUPS. They are just tools to hold and contain Life, and the type of cup we have does not define, nor change the quality of Life we live. Sometimes, by concentrating only on the cup, we fail to enjoy the coffee God has provided us”. God brews the coffee, not the cups.\n",
      "\n",
      "NOTE: The happiest people don’t have the best of everything. They just make the best of everything. Live simply. Love generously. Care deeply. Speak kindly.\n",
      "\n"
     ]
    }
   ],
   "source": [
    "#operations performed on a text file\n",
    "\n",
    "df = open(\"coffee.txt\" , \"r+\")\n",
    "text = df.read()\n",
    "print(\"Welcome to the Text Analyzer Menu! Select an option by typing a number\"\n",
    "    \"\\n1. display entire file\"\n",
    "    \"\\n2. count the occurence of words\"\n",
    "    \"\\n3. number of words,lines,paragraphs \"\n",
    "    \"\\n4. extract using index and sample text\"\n",
    "    \"\\n5. write onto a given file\"\n",
    "    \"\\n6. quit\")\n",
    "\n",
    "#Set option to 0.\n",
    "option = 0\n",
    "\n",
    "#Use the 'while' to keep looping until the user types in Option 6.\n",
    "while option !=7:\n",
    "    option = int(input())\n",
    "    if option ==1:\n",
    "        display_file(text)\n",
    "    elif option ==2:\n",
    "        count_words(text)\n",
    "    elif option ==3:\n",
    "        word_line_para(text)\n",
    "    elif option ==4:\n",
    "        extract(text)\n",
    "    elif option ==5:\n",
    "        append_file(df)\n",
    "    else:\n",
    "        print(\"wrong input\")\n"
   ]
  },
  {
   "cell_type": "code",
   "execution_count": 5,
   "metadata": {
    "collapsed": true
   },
   "outputs": [],
   "source": [
    "def display_file(text):\n",
    "    \"\"\"displays the entire file content\"\"\"\n",
    "    \n",
    "    print(text)\n"
   ]
  },
  {
   "cell_type": "code",
   "execution_count": 6,
   "metadata": {},
   "outputs": [],
   "source": [
    "def count_words(text):\n",
    "    \"\"\"count the number of times each word occurs in a file. Prints a dictionary where \n",
    "    keys are unique words and values are word counts. Skips punctuation.\"\"\"\n",
    "    \n",
    "    text = text.lower()\n",
    "    word_counts = {}\n",
    "    skips = [\".\", \",\", \";\", \"'\", \":\", \"?\", \"/\", \"&\", \"%\", \"@\", \"-\"]\n",
    "    for ch in skips:\n",
    "        text = text.replace(ch , \"\")\n",
    "    for word in text.split():\n",
    "        if word in word_counts:#word already encountered. counter to be incremented\n",
    "            word_counts[word] += 1 \n",
    "        else:  #new word found\n",
    "            word_counts[word] = 1\n",
    "    print(word_counts) \n",
    "\n"
   ]
  },
  {
   "cell_type": "code",
   "execution_count": 7,
   "metadata": {},
   "outputs": [],
   "source": [
    "def word_line_para(text):\n",
    "    \"\"\"this function prints the number of words , lines and paragraphs in the file\"\"\"\n",
    "    \n",
    "    print( \"total number of words:\" , len(text.split(' ')))\n",
    "    counter = 0\n",
    "    for word in text:\n",
    "        if word == '.':\n",
    "            counter = counter + 1\n",
    "    print(\"number of lines: \" , counter)\n",
    "    counter2 = 0\n",
    "    for para in text:\n",
    "        if para == '\\n':\n",
    "            counter2 = counter2 + 1\n",
    "    print(\"number of paragraphs: \" , counter2)\n"
   ]
  },
  {
   "cell_type": "code",
   "execution_count": 8,
   "metadata": {},
   "outputs": [],
   "source": [
    "def extract(text):\n",
    "    \"\"\"this function takes a string or an index to display the contents of the file. If a string is \n",
    "    found in the file, the index of string is returned. Text slicing can be done by passing the starting and ending \n",
    "    of an extract\"\"\"\n",
    "    \n",
    "    index = text.find(\"The happiest people don’t have the best of everything.\")\n",
    "    print(\"position of line:\" , index)\n",
    "    extract = text[index : index + 1000]\n",
    "    print(\"sample extract: \" , extract)\n",
    "    "
   ]
  },
  {
   "cell_type": "code",
   "execution_count": 9,
   "metadata": {
    "collapsed": true
   },
   "outputs": [],
   "source": [
    "def append_file(df):\n",
    "    \"\"\"this function writes the text onto the file which the user provides.\"\"\"\n",
    "    \n",
    "    print(\"enter the text to be added\")\n",
    "    new_text = input()\n",
    "    text = df.write(new_text)\n",
    "    print(text)"
   ]
  },
  {
   "cell_type": "code",
   "execution_count": null,
   "metadata": {
    "collapsed": true
   },
   "outputs": [],
   "source": []
  }
 ],
 "metadata": {
  "kernelspec": {
   "display_name": "Python 3",
   "language": "python",
   "name": "python3"
  },
  "language_info": {
   "codemirror_mode": {
    "name": "ipython",
    "version": 3
   },
   "file_extension": ".py",
   "mimetype": "text/x-python",
   "name": "python",
   "nbconvert_exporter": "python",
   "pygments_lexer": "ipython3",
   "version": "3.6.1"
  }
 },
 "nbformat": 4,
 "nbformat_minor": 2
}
