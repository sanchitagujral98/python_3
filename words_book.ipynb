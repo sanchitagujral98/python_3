{
 "cells": [
  {
   "cell_type": "code",
   "execution_count": 6,
   "metadata": {},
   "outputs": [
    {
     "name": "stdout",
     "output_type": "stream",
     "text": [
      "{'this': 2, 'is': 1, 'my': 1, 'test': 1, 'text': 2, 'were': 1, 'keeping': 1, 'short': 1, 'to': 1, 'keep': 1, 'things': 1, 'manageable': 1}\n",
      "0.0003175243619750745\n"
     ]
    }
   ],
   "source": [
    "import time\n",
    "\n",
    "start_time = time.clock()\n",
    "text = \"This is my test text. We're keeping this text short to keep things manageable.\"\n",
    "\n",
    "def count_words(text):\n",
    "    \"\"\"count the number of times each word occurs in a text. Return a dictionary where \n",
    "    keys are unique words and values are word counts. Skips punctuation.\"\"\"\n",
    "    text = text.lower()\n",
    "    word_counts = {}\n",
    "    skips = [\".\", \",\", \";\", \"'\", \":\", \"?\", \"/\", \"&\", \"%\", \"@\", \"-\"]\n",
    "    for ch in skips:\n",
    "        text = text.replace(ch , \"\")\n",
    "    for word in text.split():\n",
    "        if word in word_counts:#word already encountered. counter to be incremented\n",
    "            word_counts[word] += 1 \n",
    "        else:  #new word found\n",
    "            word_counts[word] = 1\n",
    "    return word_counts \n",
    "\n",
    "print (count_words(text))\n",
    "end_time = time.clock()\n",
    "print(end_time - start_time)\n"
   ]
  },
  {
   "cell_type": "code",
   "execution_count": 7,
   "metadata": {},
   "outputs": [
    {
     "name": "stdout",
     "output_type": "stream",
     "text": [
      "Counter({'this': 2, 'text': 2, 'is': 1, 'my': 1, 'test': 1, 'were': 1, 'keeping': 1, 'short': 1, 'to': 1, 'keep': 1, 'things': 1, 'manageable': 1})\n",
      "0.00029379021773934255\n"
     ]
    }
   ],
   "source": [
    "import time\n",
    "\n",
    "start_time = time.clock()\n",
    "\n",
    "from collections import Counter\n",
    "\n",
    "text = \"This is my test text. We're keeping this text short to keep things manageable.\"\n",
    "\n",
    "def count_words_fast(text):\n",
    "    \"\"\"count the number of times each word occurs in a text using Counter which is imported from collections. Return \n",
    "    a dictionary where keys are unique words and values are word counts. Skips punctuation.\"\"\"\n",
    "    text = text.lower()\n",
    "    word_counts = {}\n",
    "    skips = [\".\", \",\", \";\", \"'\", \":\", \"?\", \"/\", \"&\", \"%\", \"@\", \"-\"]\n",
    "    for ch in skips:\n",
    "        text = text.replace(ch , \"\")\n",
    "    word_counts = Counter(text.split(\" \"))\n",
    "    return word_counts \n",
    "\n",
    "print(count_words_fast(text))\n",
    "\n",
    "end_time = time.clock()\n",
    "print(end_time - start_time)"
   ]
  },
  {
   "cell_type": "code",
   "execution_count": null,
   "metadata": {
    "collapsed": true
   },
   "outputs": [],
   "source": []
  }
 ],
 "metadata": {
  "kernelspec": {
   "display_name": "Python 3",
   "language": "python",
   "name": "python3"
  },
  "language_info": {
   "codemirror_mode": {
    "name": "ipython",
    "version": 3
   },
   "file_extension": ".py",
   "mimetype": "text/x-python",
   "name": "python",
   "nbconvert_exporter": "python",
   "pygments_lexer": "ipython3",
   "version": "3.6.1"
  }
 },
 "nbformat": 4,
 "nbformat_minor": 2
}
